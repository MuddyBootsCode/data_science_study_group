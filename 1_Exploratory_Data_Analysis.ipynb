{
 "cells": [
  {
   "cell_type": "markdown",
   "id": "collect-niagara",
   "metadata": {},
   "source": [
    "# Pandas are very useful."
   ]
  },
  {
   "cell_type": "code",
   "execution_count": 79,
   "id": "presidential-format",
   "metadata": {},
   "outputs": [],
   "source": [
    "import random \n",
    "import string\n",
    "\n",
    "import pandas as pd\n",
    "import numpy as np\n",
    "\n",
    "# Make randomness repeatable.\n",
    "random.seed(42)\n",
    "np.random.seed(42)"
   ]
  },
  {
   "cell_type": "markdown",
   "id": "confidential-liberty",
   "metadata": {},
   "source": [
    "## You get a ractangular data frame."
   ]
  },
  {
   "cell_type": "markdown",
   "id": "continental-memorabilia",
   "metadata": {},
   "source": [
    "Dictionary can be turned into a data frame:"
   ]
  },
  {
   "cell_type": "code",
   "execution_count": 157,
   "id": "lasting-minutes",
   "metadata": {},
   "outputs": [],
   "source": [
    "dictionary = {\n",
    "    'number_a': np.random.random(10),\n",
    "    'number_b': np.random.random(10),\n",
    "    'objects': random.sample(string.ascii_uppercase, 10),\n",
    "    'binary': [random.choice([True, False]) for _ in range(0, 10)]\n",
    "}\n",
    "\n",
    "data_frame = pd.DataFrame(data=dictionary)"
   ]
  },
  {
   "cell_type": "markdown",
   "id": "sunrise-dallas",
   "metadata": {},
   "source": [
    "Once created, data frame can be saved to csv:"
   ]
  },
  {
   "cell_type": "code",
   "execution_count": 173,
   "id": "legislative-reset",
   "metadata": {},
   "outputs": [],
   "source": [
    "data_frame.to_csv('example.csv', index=False)"
   ]
  },
  {
   "cell_type": "markdown",
   "id": "elegant-cream",
   "metadata": {},
   "source": [
    "And can be read from csv."
   ]
  },
  {
   "cell_type": "code",
   "execution_count": 174,
   "id": "persistent-binary",
   "metadata": {},
   "outputs": [],
   "source": [
    "new_data_frame = pd.read_csv('example.csv')"
   ]
  },
  {
   "cell_type": "markdown",
   "id": "backed-spectrum",
   "metadata": {},
   "source": [
    "Look at the data frame:"
   ]
  },
  {
   "cell_type": "code",
   "execution_count": 175,
   "id": "moral-vocabulary",
   "metadata": {},
   "outputs": [
    {
     "data": {
      "text/html": [
       "<div>\n",
       "<style scoped>\n",
       "    .dataframe tbody tr th:only-of-type {\n",
       "        vertical-align: middle;\n",
       "    }\n",
       "\n",
       "    .dataframe tbody tr th {\n",
       "        vertical-align: top;\n",
       "    }\n",
       "\n",
       "    .dataframe thead th {\n",
       "        text-align: right;\n",
       "    }\n",
       "</style>\n",
       "<table border=\"1\" class=\"dataframe\">\n",
       "  <thead>\n",
       "    <tr style=\"text-align: right;\">\n",
       "      <th></th>\n",
       "      <th>number_a</th>\n",
       "      <th>number_b</th>\n",
       "      <th>objects</th>\n",
       "      <th>binary</th>\n",
       "    </tr>\n",
       "  </thead>\n",
       "  <tbody>\n",
       "    <tr>\n",
       "      <th>0</th>\n",
       "      <td>0.031429</td>\n",
       "      <td>0.289751</td>\n",
       "      <td>C</td>\n",
       "      <td>True</td>\n",
       "    </tr>\n",
       "    <tr>\n",
       "      <th>1</th>\n",
       "      <td>0.636410</td>\n",
       "      <td>0.161221</td>\n",
       "      <td>H</td>\n",
       "      <td>False</td>\n",
       "    </tr>\n",
       "    <tr>\n",
       "      <th>2</th>\n",
       "      <td>0.314356</td>\n",
       "      <td>0.929698</td>\n",
       "      <td>D</td>\n",
       "      <td>True</td>\n",
       "    </tr>\n",
       "    <tr>\n",
       "      <th>3</th>\n",
       "      <td>0.508571</td>\n",
       "      <td>0.808120</td>\n",
       "      <td>M</td>\n",
       "      <td>True</td>\n",
       "    </tr>\n",
       "    <tr>\n",
       "      <th>4</th>\n",
       "      <td>0.907566</td>\n",
       "      <td>0.633404</td>\n",
       "      <td>I</td>\n",
       "      <td>True</td>\n",
       "    </tr>\n",
       "    <tr>\n",
       "      <th>5</th>\n",
       "      <td>0.249292</td>\n",
       "      <td>0.871461</td>\n",
       "      <td>O</td>\n",
       "      <td>True</td>\n",
       "    </tr>\n",
       "    <tr>\n",
       "      <th>6</th>\n",
       "      <td>0.410383</td>\n",
       "      <td>0.803672</td>\n",
       "      <td>L</td>\n",
       "      <td>False</td>\n",
       "    </tr>\n",
       "    <tr>\n",
       "      <th>7</th>\n",
       "      <td>0.755551</td>\n",
       "      <td>0.186570</td>\n",
       "      <td>F</td>\n",
       "      <td>False</td>\n",
       "    </tr>\n",
       "    <tr>\n",
       "      <th>8</th>\n",
       "      <td>0.228798</td>\n",
       "      <td>0.892559</td>\n",
       "      <td>T</td>\n",
       "      <td>False</td>\n",
       "    </tr>\n",
       "    <tr>\n",
       "      <th>9</th>\n",
       "      <td>0.076980</td>\n",
       "      <td>0.539342</td>\n",
       "      <td>R</td>\n",
       "      <td>True</td>\n",
       "    </tr>\n",
       "  </tbody>\n",
       "</table>\n",
       "</div>"
      ],
      "text/plain": [
       "   number_a  number_b objects  binary\n",
       "0  0.031429  0.289751       C    True\n",
       "1  0.636410  0.161221       H   False\n",
       "2  0.314356  0.929698       D    True\n",
       "3  0.508571  0.808120       M    True\n",
       "4  0.907566  0.633404       I    True\n",
       "5  0.249292  0.871461       O    True\n",
       "6  0.410383  0.803672       L   False\n",
       "7  0.755551  0.186570       F   False\n",
       "8  0.228798  0.892559       T   False\n",
       "9  0.076980  0.539342       R    True"
      ]
     },
     "execution_count": 175,
     "metadata": {},
     "output_type": "execute_result"
    }
   ],
   "source": [
    "new_data_frame"
   ]
  },
  {
   "cell_type": "code",
   "execution_count": 176,
   "id": "capable-review",
   "metadata": {},
   "outputs": [
    {
     "data": {
      "text/html": [
       "<div>\n",
       "<style scoped>\n",
       "    .dataframe tbody tr th:only-of-type {\n",
       "        vertical-align: middle;\n",
       "    }\n",
       "\n",
       "    .dataframe tbody tr th {\n",
       "        vertical-align: top;\n",
       "    }\n",
       "\n",
       "    .dataframe thead th {\n",
       "        text-align: right;\n",
       "    }\n",
       "</style>\n",
       "<table border=\"1\" class=\"dataframe\">\n",
       "  <thead>\n",
       "    <tr style=\"text-align: right;\">\n",
       "      <th></th>\n",
       "      <th>number_a</th>\n",
       "      <th>number_b</th>\n",
       "      <th>objects</th>\n",
       "      <th>binary</th>\n",
       "    </tr>\n",
       "  </thead>\n",
       "  <tbody>\n",
       "    <tr>\n",
       "      <th>0</th>\n",
       "      <td>0.031429</td>\n",
       "      <td>0.289751</td>\n",
       "      <td>C</td>\n",
       "      <td>True</td>\n",
       "    </tr>\n",
       "    <tr>\n",
       "      <th>1</th>\n",
       "      <td>0.636410</td>\n",
       "      <td>0.161221</td>\n",
       "      <td>H</td>\n",
       "      <td>False</td>\n",
       "    </tr>\n",
       "    <tr>\n",
       "      <th>2</th>\n",
       "      <td>0.314356</td>\n",
       "      <td>0.929698</td>\n",
       "      <td>D</td>\n",
       "      <td>True</td>\n",
       "    </tr>\n",
       "    <tr>\n",
       "      <th>3</th>\n",
       "      <td>0.508571</td>\n",
       "      <td>0.808120</td>\n",
       "      <td>M</td>\n",
       "      <td>True</td>\n",
       "    </tr>\n",
       "    <tr>\n",
       "      <th>4</th>\n",
       "      <td>0.907566</td>\n",
       "      <td>0.633404</td>\n",
       "      <td>I</td>\n",
       "      <td>True</td>\n",
       "    </tr>\n",
       "    <tr>\n",
       "      <th>5</th>\n",
       "      <td>0.249292</td>\n",
       "      <td>0.871461</td>\n",
       "      <td>O</td>\n",
       "      <td>True</td>\n",
       "    </tr>\n",
       "    <tr>\n",
       "      <th>6</th>\n",
       "      <td>0.410383</td>\n",
       "      <td>0.803672</td>\n",
       "      <td>L</td>\n",
       "      <td>False</td>\n",
       "    </tr>\n",
       "    <tr>\n",
       "      <th>7</th>\n",
       "      <td>0.755551</td>\n",
       "      <td>0.186570</td>\n",
       "      <td>F</td>\n",
       "      <td>False</td>\n",
       "    </tr>\n",
       "    <tr>\n",
       "      <th>8</th>\n",
       "      <td>0.228798</td>\n",
       "      <td>0.892559</td>\n",
       "      <td>T</td>\n",
       "      <td>False</td>\n",
       "    </tr>\n",
       "    <tr>\n",
       "      <th>9</th>\n",
       "      <td>0.076980</td>\n",
       "      <td>0.539342</td>\n",
       "      <td>R</td>\n",
       "      <td>True</td>\n",
       "    </tr>\n",
       "  </tbody>\n",
       "</table>\n",
       "</div>"
      ],
      "text/plain": [
       "   number_a  number_b objects  binary\n",
       "0  0.031429  0.289751       C    True\n",
       "1  0.636410  0.161221       H   False\n",
       "2  0.314356  0.929698       D    True\n",
       "3  0.508571  0.808120       M    True\n",
       "4  0.907566  0.633404       I    True\n",
       "5  0.249292  0.871461       O    True\n",
       "6  0.410383  0.803672       L   False\n",
       "7  0.755551  0.186570       F   False\n",
       "8  0.228798  0.892559       T   False\n",
       "9  0.076980  0.539342       R    True"
      ]
     },
     "execution_count": 176,
     "metadata": {},
     "output_type": "execute_result"
    }
   ],
   "source": [
    "data_frame"
   ]
  },
  {
   "cell_type": "markdown",
   "id": "protected-parish",
   "metadata": {},
   "source": [
    "Get info about data frame:"
   ]
  },
  {
   "cell_type": "code",
   "execution_count": 159,
   "id": "identical-comparative",
   "metadata": {},
   "outputs": [
    {
     "name": "stdout",
     "output_type": "stream",
     "text": [
      "<class 'pandas.core.frame.DataFrame'>\n",
      "RangeIndex: 10 entries, 0 to 9\n",
      "Data columns (total 4 columns):\n",
      " #   Column    Non-Null Count  Dtype  \n",
      "---  ------    --------------  -----  \n",
      " 0   number_a  10 non-null     float64\n",
      " 1   number_b  10 non-null     float64\n",
      " 2   objects   10 non-null     object \n",
      " 3   binary    10 non-null     bool   \n",
      "dtypes: bool(1), float64(2), object(1)\n",
      "memory usage: 378.0+ bytes\n"
     ]
    }
   ],
   "source": [
    "data_frame.info()"
   ]
  },
  {
   "cell_type": "markdown",
   "id": "representative-image",
   "metadata": {},
   "source": [
    "# You get estimates of location and variability."
   ]
  },
  {
   "cell_type": "markdown",
   "id": "funny-zimbabwe",
   "metadata": {},
   "source": [
    "Categorical data is ignored when location and variablity is described."
   ]
  },
  {
   "cell_type": "code",
   "execution_count": 160,
   "id": "dangerous-oracle",
   "metadata": {},
   "outputs": [
    {
     "data": {
      "text/html": [
       "<div>\n",
       "<style scoped>\n",
       "    .dataframe tbody tr th:only-of-type {\n",
       "        vertical-align: middle;\n",
       "    }\n",
       "\n",
       "    .dataframe tbody tr th {\n",
       "        vertical-align: top;\n",
       "    }\n",
       "\n",
       "    .dataframe thead th {\n",
       "        text-align: right;\n",
       "    }\n",
       "</style>\n",
       "<table border=\"1\" class=\"dataframe\">\n",
       "  <thead>\n",
       "    <tr style=\"text-align: right;\">\n",
       "      <th></th>\n",
       "      <th>number_a</th>\n",
       "      <th>number_b</th>\n",
       "    </tr>\n",
       "  </thead>\n",
       "  <tbody>\n",
       "    <tr>\n",
       "      <th>count</th>\n",
       "      <td>10.000000</td>\n",
       "      <td>10.000000</td>\n",
       "    </tr>\n",
       "    <tr>\n",
       "      <th>mean</th>\n",
       "      <td>0.411934</td>\n",
       "      <td>0.611580</td>\n",
       "    </tr>\n",
       "    <tr>\n",
       "      <th>std</th>\n",
       "      <td>0.288665</td>\n",
       "      <td>0.301098</td>\n",
       "    </tr>\n",
       "    <tr>\n",
       "      <th>min</th>\n",
       "      <td>0.031429</td>\n",
       "      <td>0.161221</td>\n",
       "    </tr>\n",
       "    <tr>\n",
       "      <th>25%</th>\n",
       "      <td>0.233922</td>\n",
       "      <td>0.352149</td>\n",
       "    </tr>\n",
       "    <tr>\n",
       "      <th>50%</th>\n",
       "      <td>0.362369</td>\n",
       "      <td>0.718538</td>\n",
       "    </tr>\n",
       "    <tr>\n",
       "      <th>75%</th>\n",
       "      <td>0.604450</td>\n",
       "      <td>0.855626</td>\n",
       "    </tr>\n",
       "    <tr>\n",
       "      <th>max</th>\n",
       "      <td>0.907566</td>\n",
       "      <td>0.929698</td>\n",
       "    </tr>\n",
       "  </tbody>\n",
       "</table>\n",
       "</div>"
      ],
      "text/plain": [
       "        number_a   number_b\n",
       "count  10.000000  10.000000\n",
       "mean    0.411934   0.611580\n",
       "std     0.288665   0.301098\n",
       "min     0.031429   0.161221\n",
       "25%     0.233922   0.352149\n",
       "50%     0.362369   0.718538\n",
       "75%     0.604450   0.855626\n",
       "max     0.907566   0.929698"
      ]
     },
     "execution_count": 160,
     "metadata": {},
     "output_type": "execute_result"
    }
   ],
   "source": [
    "data_frame.describe()"
   ]
  },
  {
   "cell_type": "code",
   "execution_count": 162,
   "id": "lesser-terrace",
   "metadata": {},
   "outputs": [
    {
     "data": {
      "text/plain": [
       "0.30109763094386127"
      ]
     },
     "execution_count": 162,
     "metadata": {},
     "output_type": "execute_result"
    }
   ],
   "source": [
    "data_frame.number_b.std()"
   ]
  },
  {
   "cell_type": "code",
   "execution_count": 121,
   "id": "temporal-newton",
   "metadata": {},
   "outputs": [
    {
     "data": {
      "text/html": [
       "<div>\n",
       "<style scoped>\n",
       "    .dataframe tbody tr th:only-of-type {\n",
       "        vertical-align: middle;\n",
       "    }\n",
       "\n",
       "    .dataframe tbody tr th {\n",
       "        vertical-align: top;\n",
       "    }\n",
       "\n",
       "    .dataframe thead th {\n",
       "        text-align: right;\n",
       "    }\n",
       "</style>\n",
       "<table border=\"1\" class=\"dataframe\">\n",
       "  <thead>\n",
       "    <tr style=\"text-align: right;\">\n",
       "      <th></th>\n",
       "      <th>number_a</th>\n",
       "      <th>number_b</th>\n",
       "      <th>objects</th>\n",
       "    </tr>\n",
       "  </thead>\n",
       "  <tbody>\n",
       "    <tr>\n",
       "      <th>0</th>\n",
       "      <td>0.122038</td>\n",
       "      <td>0.969585</td>\n",
       "      <td>W</td>\n",
       "    </tr>\n",
       "    <tr>\n",
       "      <th>1</th>\n",
       "      <td>0.495177</td>\n",
       "      <td>0.775133</td>\n",
       "      <td>U</td>\n",
       "    </tr>\n",
       "  </tbody>\n",
       "</table>\n",
       "</div>"
      ],
      "text/plain": [
       "   number_a  number_b objects\n",
       "0  0.122038  0.969585       W\n",
       "1  0.495177  0.775133       U"
      ]
     },
     "execution_count": 121,
     "metadata": {},
     "output_type": "execute_result"
    }
   ],
   "source": [
    "data_frame.head(2)"
   ]
  },
  {
   "cell_type": "code",
   "execution_count": 122,
   "id": "particular-academy",
   "metadata": {},
   "outputs": [
    {
     "data": {
      "text/html": [
       "<div>\n",
       "<style scoped>\n",
       "    .dataframe tbody tr th:only-of-type {\n",
       "        vertical-align: middle;\n",
       "    }\n",
       "\n",
       "    .dataframe tbody tr th {\n",
       "        vertical-align: top;\n",
       "    }\n",
       "\n",
       "    .dataframe thead th {\n",
       "        text-align: right;\n",
       "    }\n",
       "</style>\n",
       "<table border=\"1\" class=\"dataframe\">\n",
       "  <thead>\n",
       "    <tr style=\"text-align: right;\">\n",
       "      <th></th>\n",
       "      <th>number_a</th>\n",
       "      <th>number_b</th>\n",
       "      <th>objects</th>\n",
       "    </tr>\n",
       "  </thead>\n",
       "  <tbody>\n",
       "    <tr>\n",
       "      <th>7</th>\n",
       "      <td>0.520068</td>\n",
       "      <td>0.195983</td>\n",
       "      <td>S</td>\n",
       "    </tr>\n",
       "    <tr>\n",
       "      <th>8</th>\n",
       "      <td>0.546710</td>\n",
       "      <td>0.045227</td>\n",
       "      <td>I</td>\n",
       "    </tr>\n",
       "    <tr>\n",
       "      <th>9</th>\n",
       "      <td>0.184854</td>\n",
       "      <td>0.325330</td>\n",
       "      <td>A</td>\n",
       "    </tr>\n",
       "  </tbody>\n",
       "</table>\n",
       "</div>"
      ],
      "text/plain": [
       "   number_a  number_b objects\n",
       "7  0.520068  0.195983       S\n",
       "8  0.546710  0.045227       I\n",
       "9  0.184854  0.325330       A"
      ]
     },
     "execution_count": 122,
     "metadata": {},
     "output_type": "execute_result"
    }
   ],
   "source": [
    "data_frame.tail(3)"
   ]
  },
  {
   "cell_type": "code",
   "execution_count": 123,
   "id": "scientific-reaction",
   "metadata": {},
   "outputs": [
    {
     "data": {
      "text/html": [
       "<div>\n",
       "<style scoped>\n",
       "    .dataframe tbody tr th:only-of-type {\n",
       "        vertical-align: middle;\n",
       "    }\n",
       "\n",
       "    .dataframe tbody tr th {\n",
       "        vertical-align: top;\n",
       "    }\n",
       "\n",
       "    .dataframe thead th {\n",
       "        text-align: right;\n",
       "    }\n",
       "</style>\n",
       "<table border=\"1\" class=\"dataframe\">\n",
       "  <thead>\n",
       "    <tr style=\"text-align: right;\">\n",
       "      <th></th>\n",
       "      <th>number_a</th>\n",
       "      <th>number_b</th>\n",
       "      <th>objects</th>\n",
       "    </tr>\n",
       "  </thead>\n",
       "  <tbody>\n",
       "    <tr>\n",
       "      <th>0</th>\n",
       "      <td>0.122038</td>\n",
       "      <td>0.969585</td>\n",
       "      <td>W</td>\n",
       "    </tr>\n",
       "    <tr>\n",
       "      <th>1</th>\n",
       "      <td>0.495177</td>\n",
       "      <td>0.775133</td>\n",
       "      <td>U</td>\n",
       "    </tr>\n",
       "    <tr>\n",
       "      <th>2</th>\n",
       "      <td>0.034389</td>\n",
       "      <td>0.939499</td>\n",
       "      <td>Z</td>\n",
       "    </tr>\n",
       "    <tr>\n",
       "      <th>3</th>\n",
       "      <td>0.909320</td>\n",
       "      <td>0.894827</td>\n",
       "      <td>R</td>\n",
       "    </tr>\n",
       "    <tr>\n",
       "      <th>4</th>\n",
       "      <td>0.258780</td>\n",
       "      <td>0.597900</td>\n",
       "      <td>N</td>\n",
       "    </tr>\n",
       "  </tbody>\n",
       "</table>\n",
       "</div>"
      ],
      "text/plain": [
       "   number_a  number_b objects\n",
       "0  0.122038  0.969585       W\n",
       "1  0.495177  0.775133       U\n",
       "2  0.034389  0.939499       Z\n",
       "3  0.909320  0.894827       R\n",
       "4  0.258780  0.597900       N"
      ]
     },
     "execution_count": 123,
     "metadata": {},
     "output_type": "execute_result"
    }
   ],
   "source": [
    "data_frame.head()"
   ]
  },
  {
   "cell_type": "code",
   "execution_count": 124,
   "id": "classified-scottish",
   "metadata": {},
   "outputs": [
    {
     "data": {
      "text/html": [
       "<div>\n",
       "<style scoped>\n",
       "    .dataframe tbody tr th:only-of-type {\n",
       "        vertical-align: middle;\n",
       "    }\n",
       "\n",
       "    .dataframe tbody tr th {\n",
       "        vertical-align: top;\n",
       "    }\n",
       "\n",
       "    .dataframe thead th {\n",
       "        text-align: right;\n",
       "    }\n",
       "</style>\n",
       "<table border=\"1\" class=\"dataframe\">\n",
       "  <thead>\n",
       "    <tr style=\"text-align: right;\">\n",
       "      <th></th>\n",
       "      <th>number_a</th>\n",
       "      <th>number_b</th>\n",
       "      <th>objects</th>\n",
       "    </tr>\n",
       "  </thead>\n",
       "  <tbody>\n",
       "    <tr>\n",
       "      <th>7</th>\n",
       "      <td>0.520068</td>\n",
       "      <td>0.195983</td>\n",
       "      <td>S</td>\n",
       "    </tr>\n",
       "  </tbody>\n",
       "</table>\n",
       "</div>"
      ],
      "text/plain": [
       "   number_a  number_b objects\n",
       "7  0.520068  0.195983       S"
      ]
     },
     "execution_count": 124,
     "metadata": {},
     "output_type": "execute_result"
    }
   ],
   "source": [
    "data_frame[data_frame.objects == 'S']"
   ]
  },
  {
   "cell_type": "code",
   "execution_count": 163,
   "id": "identical-peace",
   "metadata": {},
   "outputs": [
    {
     "data": {
      "text/plain": [
       "array([ True, False])"
      ]
     },
     "execution_count": 163,
     "metadata": {},
     "output_type": "execute_result"
    }
   ],
   "source": [
    "data_frame.binary.unique()"
   ]
  },
  {
   "cell_type": "code",
   "execution_count": 164,
   "id": "connected-tissue",
   "metadata": {},
   "outputs": [
    {
     "data": {
      "text/plain": [
       "True     6\n",
       "False    4\n",
       "Name: binary, dtype: int64"
      ]
     },
     "execution_count": 164,
     "metadata": {},
     "output_type": "execute_result"
    }
   ],
   "source": [
    "data_frame.binary.value_counts()"
   ]
  },
  {
   "cell_type": "code",
   "execution_count": 125,
   "id": "extra-station",
   "metadata": {},
   "outputs": [
    {
     "data": {
      "text/plain": [
       "0.40455701662400767"
      ]
     },
     "execution_count": 125,
     "metadata": {},
     "output_type": "execute_result"
    }
   ],
   "source": [
    "data_frame.number_a.mean()"
   ]
  },
  {
   "cell_type": "code",
   "execution_count": 126,
   "id": "tight-kitty",
   "metadata": {},
   "outputs": [
    {
     "data": {
      "text/html": [
       "<div>\n",
       "<style scoped>\n",
       "    .dataframe tbody tr th:only-of-type {\n",
       "        vertical-align: middle;\n",
       "    }\n",
       "\n",
       "    .dataframe tbody tr th {\n",
       "        vertical-align: top;\n",
       "    }\n",
       "\n",
       "    .dataframe thead th {\n",
       "        text-align: right;\n",
       "    }\n",
       "</style>\n",
       "<table border=\"1\" class=\"dataframe\">\n",
       "  <thead>\n",
       "    <tr style=\"text-align: right;\">\n",
       "      <th></th>\n",
       "      <th>number_a</th>\n",
       "      <th>number_b</th>\n",
       "      <th>objects</th>\n",
       "    </tr>\n",
       "  </thead>\n",
       "  <tbody>\n",
       "    <tr>\n",
       "      <th>1</th>\n",
       "      <td>0.495177</td>\n",
       "      <td>0.775133</td>\n",
       "      <td>U</td>\n",
       "    </tr>\n",
       "    <tr>\n",
       "      <th>3</th>\n",
       "      <td>0.909320</td>\n",
       "      <td>0.894827</td>\n",
       "      <td>R</td>\n",
       "    </tr>\n",
       "    <tr>\n",
       "      <th>5</th>\n",
       "      <td>0.662522</td>\n",
       "      <td>0.921874</td>\n",
       "      <td>H</td>\n",
       "    </tr>\n",
       "    <tr>\n",
       "      <th>7</th>\n",
       "      <td>0.520068</td>\n",
       "      <td>0.195983</td>\n",
       "      <td>S</td>\n",
       "    </tr>\n",
       "    <tr>\n",
       "      <th>8</th>\n",
       "      <td>0.546710</td>\n",
       "      <td>0.045227</td>\n",
       "      <td>I</td>\n",
       "    </tr>\n",
       "  </tbody>\n",
       "</table>\n",
       "</div>"
      ],
      "text/plain": [
       "   number_a  number_b objects\n",
       "1  0.495177  0.775133       U\n",
       "3  0.909320  0.894827       R\n",
       "5  0.662522  0.921874       H\n",
       "7  0.520068  0.195983       S\n",
       "8  0.546710  0.045227       I"
      ]
     },
     "execution_count": 126,
     "metadata": {},
     "output_type": "execute_result"
    }
   ],
   "source": [
    "data_frame[data_frame.number_a > data_frame.number_a.mean()]"
   ]
  },
  {
   "cell_type": "code",
   "execution_count": 127,
   "id": "electrical-chicken",
   "metadata": {},
   "outputs": [
    {
     "data": {
      "text/plain": [
       "<AxesSubplot:>"
      ]
     },
     "execution_count": 127,
     "metadata": {},
     "output_type": "execute_result"
    },
    {
     "data": {
      "image/png": "[encoded data removed]",
      "text/plain": [
       "<Figure size 720x360 with 1 Axes>"
      ]
     },
     "metadata": {
      "needs_background": "light"
     },
     "output_type": "display_data"
    }
   ],
   "source": [
    "data_frame.number_a.plot.line(figsize=(10, 5))"
   ]
  },
  {
   "cell_type": "code",
   "execution_count": 138,
   "id": "affected-cloud",
   "metadata": {},
   "outputs": [
    {
     "data": {
      "text/plain": [
       "<AxesSubplot:>"
      ]
     },
     "execution_count": 138,
     "metadata": {},
     "output_type": "execute_result"
    },
    {
     "data": {
      "image/png": "[encoded data removed]",
      "text/plain": [
       "<Figure size 432x288 with 1 Axes>"
      ]
     },
     "metadata": {
      "needs_background": "light"
     },
     "output_type": "display_data"
    }
   ],
   "source": [
    "data_frame.number_b.plot.bar(figsize=(6, 4))"
   ]
  },
  {
   "cell_type": "code",
   "execution_count": 139,
   "id": "extended-incentive",
   "metadata": {},
   "outputs": [
    {
     "data": {
      "text/plain": [
       "Text(0.5, 0, 'And more descriptive stuff here.')"
      ]
     },
     "execution_count": 139,
     "metadata": {},
     "output_type": "execute_result"
    },
    {
     "data": {
      "image/png": "[encoded data removed]",
      "text/plain": [
       "<Figure size 432x288 with 1 Axes>"
      ]
     },
     "metadata": {
      "needs_background": "light"
     },
     "output_type": "display_data"
    }
   ],
   "source": [
    "ax = data_frame.plot.box()\n",
    "ax.set_ylabel(\"Something descriptive here.\")\n",
    "ax.set_xlabel(\"And more descriptive stuff here.\")"
   ]
  },
  {
   "cell_type": "code",
   "execution_count": 132,
   "id": "decreased-status",
   "metadata": {},
   "outputs": [
    {
     "data": {
      "text/plain": [
       "<AxesSubplot:ylabel='Density'>"
      ]
     },
     "execution_count": 132,
     "metadata": {},
     "output_type": "execute_result"
    },
    {
     "data": {
      "image/png": "[encoded data removed]",
      "text/plain": [
       "<Figure size 432x288 with 1 Axes>"
      ]
     },
     "metadata": {
      "needs_background": "light"
     },
     "output_type": "display_data"
    }
   ],
   "source": [
    "data_frame.number_a.plot.density()"
   ]
  },
  {
   "cell_type": "code",
   "execution_count": 133,
   "id": "cheap-environment",
   "metadata": {},
   "outputs": [
    {
     "data": {
      "text/plain": [
       "<AxesSubplot:ylabel='Density'>"
      ]
     },
     "execution_count": 133,
     "metadata": {},
     "output_type": "execute_result"
    },
    {
     "data": {
      "image/png": "[encoded data removed]",
      "text/plain": [
       "<Figure size 432x288 with 1 Axes>"
      ]
     },
     "metadata": {
      "needs_background": "light"
     },
     "output_type": "display_data"
    }
   ],
   "source": [
    "data_frame.plot.density()"
   ]
  },
  {
   "cell_type": "code",
   "execution_count": 134,
   "id": "appropriate-louis",
   "metadata": {},
   "outputs": [
    {
     "data": {
      "text/plain": [
       "<AxesSubplot:>"
      ]
     },
     "execution_count": 134,
     "metadata": {},
     "output_type": "execute_result"
    },
    {
     "data": {
      "image/png": "[encoded data removed]",
      "text/plain": [
       "<Figure size 432x288 with 1 Axes>"
      ]
     },
     "metadata": {
      "needs_background": "light"
     },
     "output_type": "display_data"
    }
   ],
   "source": [
    "data_frame.plot.line()"
   ]
  },
  {
   "cell_type": "code",
   "execution_count": 153,
   "id": "recovered-lover",
   "metadata": {},
   "outputs": [
    {
     "data": {
      "text/plain": [
       "<AxesSubplot:ylabel='Density'>"
      ]
     },
     "execution_count": 153,
     "metadata": {},
     "output_type": "execute_result"
    },
    {
     "data": {
      "image/png": "[encoded data removed]",
      "text/plain": [
       "<Figure size 432x288 with 1 Axes>"
      ]
     },
     "metadata": {
      "needs_background": "light"
     },
     "output_type": "display_data"
    }
   ],
   "source": [
    "ax = data_frame.number_a.plot.hist()\n",
    "data_frame.number_a.plot.density(ax=ax)"
   ]
  },
  {
   "cell_type": "code",
   "execution_count": 177,
   "id": "prime-detection",
   "metadata": {},
   "outputs": [
    {
     "data": {
      "text/html": [
       "<div>\n",
       "<style scoped>\n",
       "    .dataframe tbody tr th:only-of-type {\n",
       "        vertical-align: middle;\n",
       "    }\n",
       "\n",
       "    .dataframe tbody tr th {\n",
       "        vertical-align: top;\n",
       "    }\n",
       "\n",
       "    .dataframe thead th {\n",
       "        text-align: right;\n",
       "    }\n",
       "</style>\n",
       "<table border=\"1\" class=\"dataframe\">\n",
       "  <thead>\n",
       "    <tr style=\"text-align: right;\">\n",
       "      <th></th>\n",
       "      <th>number_a</th>\n",
       "      <th>number_b</th>\n",
       "      <th>binary</th>\n",
       "    </tr>\n",
       "  </thead>\n",
       "  <tbody>\n",
       "    <tr>\n",
       "      <th>number_a</th>\n",
       "      <td>1.000000</td>\n",
       "      <td>-0.250223</td>\n",
       "      <td>-0.285786</td>\n",
       "    </tr>\n",
       "    <tr>\n",
       "      <th>number_b</th>\n",
       "      <td>-0.250223</td>\n",
       "      <td>1.000000</td>\n",
       "      <td>0.287483</td>\n",
       "    </tr>\n",
       "    <tr>\n",
       "      <th>binary</th>\n",
       "      <td>-0.285786</td>\n",
       "      <td>0.287483</td>\n",
       "      <td>1.000000</td>\n",
       "    </tr>\n",
       "  </tbody>\n",
       "</table>\n",
       "</div>"
      ],
      "text/plain": [
       "          number_a  number_b    binary\n",
       "number_a  1.000000 -0.250223 -0.285786\n",
       "number_b -0.250223  1.000000  0.287483\n",
       "binary   -0.285786  0.287483  1.000000"
      ]
     },
     "execution_count": 177,
     "metadata": {},
     "output_type": "execute_result"
    }
   ],
   "source": [
    "data_frame.corr()"
   ]
  },
  {
   "cell_type": "code",
   "execution_count": null,
   "id": "established-neighborhood",
   "metadata": {},
   "outputs": [],
   "source": []
  }
 ],
 "metadata": {
  "kernelspec": {
   "display_name": "Python 3",
   "language": "python",
   "name": "python3"
  },
  "language_info": {
   "codemirror_mode": {
    "name": "ipython",
    "version": 3
   },
   "file_extension": ".py",
   "mimetype": "text/x-python",
   "name": "python",
   "nbconvert_exporter": "python",
   "pygments_lexer": "ipython3",
   "version": "3.6.9"
  }
 },
 "nbformat": 4,
 "nbformat_minor": 5
}
