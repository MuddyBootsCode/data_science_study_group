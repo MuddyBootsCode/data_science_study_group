{
  "nbformat": 4,
  "nbformat_minor": 0,
  "metadata": {
    "colab": {
      "name": "data_science.ipynb",
      "provenance": [],
      "authorship_tag": "ABX9TyNT6oS3oWkBN0ska6ayrFUT",
      "include_colab_link": true
    },
    "kernelspec": {
      "name": "python3",
      "display_name": "Python 3"
    }
  },
  "cells": [
    {
      "cell_type": "markdown",
      "metadata": {
        "id": "view-in-github",
        "colab_type": "text"
      },
      "source": [
        "<a href=\"https://colab.research.google.com/github/MuddyBootsCode/data_science_study_group/blob/main/data_science.ipynb\" target=\"_parent\"><img src=\"https://colab.research.google.com/assets/colab-badge.svg\" alt=\"Open In Colab\"/></a>"
      ]
    },
    {
      "cell_type": "markdown",
      "metadata": {
        "id": "IuklWyF-802_"
      },
      "source": [
        "## Practical Statistics for Data Scientists Study Group\n",
        "\n",
        "For this group we'll be using the text: [Practical Statistics for Data Scientists by Peter Bruce, Andrew Bruce, and Peter Dedeck](https://www.amazon.com/Practical-Statistics-Data-Scientists-Essential/dp/149207294X/ref=sr_1_1?crid=UBTVFA6OWEH6&dchild=1&keywords=practical+statistics+for+data+scientists&qid=1613917144&sprefix=practical+stat%2Caps%2C205&sr=8-1) and we're only doing the **Python** examples, if you want you can do the R as well but we will not be covering them. The goal is to work through one sub section of each chapter per week. For example, the first chapter, Exploratory Data Analysis has a subsection:\n",
        "\n",
        "## Rectangular Data:\n",
        "\n",
        "Which has further subsections\n",
        "- Data Frames and Indexes\n",
        "- Nonrectangular Data Structures\n",
        "\n",
        "Depending on how much effort is requried to complete the subsection we may break them down to one per week or try to get them all.\n",
        "\n",
        "# Meeting Times\n",
        "\n",
        "Hopefully we'll be able to meet up and discuss the chapters once a week. Currently we're looking at **Tuesdays at 6pm CST**. Here's a zoom link for the meeting: [here](https://zoom.us/j/97745088615) the meeting will also be recorded and posted so that it can be rewatched or used by people who could not make the meeting.\n",
        "\n",
        "# Git Repo\n",
        "\n",
        "[Data Science Group Repo](https://github.com/MuddyBootsCode/data_science_study_group)\n",
        "\n",
        "Please fork the repo and then for each week create a branch, you can then name it something like this for week 1:\n",
        "\n",
        "##mporter/data_frames_and_indexes\n"
      ]
    }
  ]
}